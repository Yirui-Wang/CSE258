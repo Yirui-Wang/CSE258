{
 "cells": [
  {
   "cell_type": "code",
   "execution_count": null,
   "metadata": {},
   "outputs": [],
   "source": [
    "import pandas as pd\n",
    "import numpy as np\n",
    "from sklearn.linear_model import LinearRegression\n",
    "from sklearn.metrics import mean_squared_error\n",
    "from surprise import Reader, Dataset, SVD\n",
    "\n",
    "df = pd.read_csv('data/fit.csv')\n",
    "train = df[0: df.shape[0] // 10 * 8]\n",
    "validation = df[df.shape[0] // 10 * 8: df.shape[0] // 10 * 9]\n",
    "test = df[df.shape[0] // 10 * 9:]\n",
    "\n",
    "# SVD\n",
    "col_names = ['user_id', 'item_id', 'rating']\n",
    "reader = Reader(rating_scale=(2, 10))\n",
    "data = Dataset.load_from_df(train[col_names], reader)\n",
    "data = data.build_full_trainset()\n",
    "algo = SVD()\n",
    "algo.fit(data)\n",
    "svds = []\n",
    "for user_id, item_id in zip(df['user_id'], df['item_id']):\n",
    "    svds.append(algo.predict(user_id, item_id).est)\n",
    "df = df.assign(SVD=svds)\n",
    "df.to_csv('data/fit_svd.csv', index=False)"
   ]
  },
  {
   "cell_type": "code",
   "execution_count": null,
   "metadata": {},
   "outputs": [],
   "source": [
    "df = pd.read_csv('data/fit_svd.csv')\n",
    "one_hot_rf = pd.get_dummies(df['rented for'])\n",
    "one_hot_bt = pd.get_dummies(df['body type'])\n",
    "one_hot_cat = pd.get_dummies(df['category'])\n",
    "\n",
    "df = df.drop('rented for', axis=1)\n",
    "df = df.drop('body type', axis=1)\n",
    "df = df.drop('category', axis=1)\n",
    "\n",
    "df = df.drop('review date', axis=1)\n",
    "df = df.drop('fit', axis=1)\n",
    "\n",
    "ratings = df['rating']\n",
    "df = df.drop('rating', axis=1)\n",
    "\n",
    "df = df.join(one_hot_rf)\n",
    "df = df.join(one_hot_bt)\n",
    "df = df.join(one_hot_cat)\n",
    "\n",
    "train = df[0: df.shape[0] // 10 * 8]\n",
    "train_ratings = ratings[0: df.shape[0] // 10 * 8]\n",
    "validation = df[df.shape[0] // 10 * 8: df.shape[0] // 10 * 9]\n",
    "validation_ratings = ratings[df.shape[0] // 10 * 8: df.shape[0] // 10 * 9]"
   ]
  },
  {
   "cell_type": "code",
   "execution_count": null,
   "metadata": {
    "scrolled": true
   },
   "outputs": [],
   "source": [
    "mse = mean_squared_error(validation_ratings, df['SVD'][df.shape[0] // 10 * 8: df.shape[0] // 10 * 9])\n",
    "print('MSE of SVD:')\n",
    "print(mse)"
   ]
  },
  {
   "cell_type": "code",
   "execution_count": null,
   "metadata": {
    "scrolled": true
   },
   "outputs": [],
   "source": [
    "reg = LinearRegression().fit(train, train_ratings)\n",
    "predictions = reg.predict(validation)\n",
    "mse = mean_squared_error(validation_ratings, predictions)\n",
    "print('MSE of combining SVD and linear regression:')\n",
    "print(mse)"
   ]
  },
  {
   "cell_type": "code",
   "execution_count": 45,
   "metadata": {},
   "outputs": [
    {
     "name": "stdout",
     "output_type": "stream",
     "text": [
      "MSE of linear regression:\n",
      "1.9862645229992368\n"
     ]
    }
   ],
   "source": [
    "df = pd.read_csv('data/fit.csv')\n",
    "one_hot_rf = pd.get_dummies(df['rented for'])\n",
    "one_hot_bt = pd.get_dummies(df['body type'])\n",
    "one_hot_cat = pd.get_dummies(df['category'])\n",
    "\n",
    "df = df.drop('rented for', axis=1)\n",
    "df = df.drop('body type', axis=1)\n",
    "df = df.drop('category', axis=1)\n",
    "\n",
    "df = df.drop('review date', axis=1)\n",
    "df = df.drop('fit', axis=1)\n",
    "\n",
    "ratings = df['rating']\n",
    "df = df.drop('rating', axis=1)\n",
    "\n",
    "df = df.join(one_hot_rf)\n",
    "df = df.join(one_hot_bt)\n",
    "df = df.join(one_hot_cat)\n",
    "\n",
    "train = df[0: df.shape[0] // 10 * 8]\n",
    "train_ratings = ratings[0: df.shape[0] // 10 * 8]\n",
    "validation = df[df.shape[0] // 10 * 8: df.shape[0] // 10 * 9]\n",
    "validation_ratings = ratings[df.shape[0] // 10 * 8: df.shape[0] // 10 * 9]\n",
    "\n",
    "reg = LinearRegression().fit(train, train_ratings)\n",
    "predictions = reg.predict(validation)\n",
    "mse = mean_squared_error(validation_ratings, predictions)\n",
    "print('MSE of linear regression:')\n",
    "print(mse)"
   ]
  },
  {
   "cell_type": "code",
   "execution_count": 65,
   "metadata": {},
   "outputs": [
    {
     "name": "stdout",
     "output_type": "stream",
     "text": [
      "        fit  user_id  item_id  rating     rented for          body type  \\\n",
      "0       fit   420272  2260466    10.0       vacation          hourglass   \n",
      "1       fit   273551   153475    10.0          other  straight & narrow   \n",
      "2       fit   909926   126335     8.0  formal affair               pear   \n",
      "3       fit   151944   616682    10.0        wedding           athletic   \n",
      "4       fit   734848   364092     8.0           date           athletic   \n",
      "...     ...      ...      ...     ...            ...                ...   \n",
      "146376  fit    66386  2252812    10.0           work          hourglass   \n",
      "146377  fit   118398   682043    10.0           work             petite   \n",
      "146378  fit    47002   683251     6.0       everyday  straight & narrow   \n",
      "146379  fit   961120   126335    10.0        wedding               pear   \n",
      "146380  fit   123612   127865    10.0        wedding           athletic   \n",
      "\n",
      "        category         review date  bust size  cup size  weight    height  \\\n",
      "0         romper      April 20, 2016        0.3  0.333333   0.348  0.583333   \n",
      "1           gown       June 18, 2013        0.3  0.111111   0.328  0.500000   \n",
      "2          dress   February 12, 2014        0.3  0.222222   0.340  0.458333   \n",
      "3           gown  September 26, 2016        0.3  0.111111   0.380  0.625000   \n",
      "4          dress      April 30, 2016        0.2  0.111111   0.352  0.583333   \n",
      "...          ...                 ...        ...       ...     ...       ...   \n",
      "146376  jumpsuit        May 18, 2016        0.3  0.333333   0.360  0.625000   \n",
      "146377     dress  September 30, 2016        0.2  0.222222   0.200  0.291667   \n",
      "146378     dress       March 4, 2016        0.4  0.000000   0.340  0.583333   \n",
      "146379     dress   November 25, 2015        0.4  0.222222   0.460  0.500000   \n",
      "146380      gown     August 29, 2017        0.4  0.111111   0.420  0.500000   \n",
      "\n",
      "            size       age  review length  number of excl  \n",
      "0       0.241379  0.239316       0.110386            0.04  \n",
      "1       0.206897  0.307692       0.110386            0.00  \n",
      "2       0.137931  0.290598       0.232815            0.04  \n",
      "3       0.206897  0.230769       0.279980            0.02  \n",
      "4       0.137931  0.384615       0.097341            0.00  \n",
      "...          ...       ...            ...             ...  \n",
      "146376  0.137931  0.358974       0.008028            0.02  \n",
      "146377  0.068966  0.247863       0.171601            0.02  \n",
      "146378  0.137931  0.264957       0.139990            0.00  \n",
      "146379  0.275862  0.264957       0.219769            0.02  \n",
      "146380  0.275862  0.256410       0.249875            0.02  \n",
      "\n",
      "[146381 rows x 16 columns]\n"
     ]
    }
   ],
   "source": [
    "df = pd.read_csv('data/fit.csv')\n",
    "attrs = ['bust size', 'cup size', 'weight', 'height', 'size', 'age', 'review length', 'number of excl']\n",
    "for attr in attrs:\n",
    "    scale = (df[attr]-df[attr].min())/(df[attr].max()-df[attr].min())\n",
    "    df = df.drop(attr, axis=1)\n",
    "    df[attr] = scale\n",
    "print(df)"
   ]
  },
  {
   "cell_type": "code",
   "execution_count": 66,
   "metadata": {},
   "outputs": [],
   "source": [
    "one_hot_rf = pd.get_dummies(df['rented for'])\n",
    "one_hot_bt = pd.get_dummies(df['body type'])\n",
    "one_hot_cat = pd.get_dummies(df['category'])\n",
    "\n",
    "df = df.drop('rented for', axis=1)\n",
    "df = df.drop('body type', axis=1)\n",
    "df = df.drop('category', axis=1)\n",
    "df = df.drop('review date', axis=1)\n",
    "\n",
    "df = df.join(one_hot_rf)\n",
    "df = df.join(one_hot_bt)\n",
    "df = df.join(one_hot_cat)\n",
    "\n",
    "df.to_csv('data/fit_norm.csv', index=False)"
   ]
  },
  {
   "cell_type": "code",
   "execution_count": 67,
   "metadata": {},
   "outputs": [
    {
     "name": "stdout",
     "output_type": "stream",
     "text": [
      "MSE of linear regression:\n",
      "1.9862645229932285\n"
     ]
    }
   ],
   "source": [
    "df = pd.read_csv('data/fit_norm.csv')\n",
    "df = df.drop('fit', axis=1)\n",
    "ratings = df['rating']\n",
    "df = df.drop('rating', axis=1)\n",
    "\n",
    "train = df[0: df.shape[0] // 10 * 8]\n",
    "train_ratings = ratings[0: df.shape[0] // 10 * 8]\n",
    "validation = df[df.shape[0] // 10 * 8: df.shape[0] // 10 * 9]\n",
    "validation_ratings = ratings[df.shape[0] // 10 * 8: df.shape[0] // 10 * 9]\n",
    "\n",
    "reg = LinearRegression().fit(train, train_ratings)\n",
    "predictions = reg.predict(validation)\n",
    "mse = mean_squared_error(validation_ratings, predictions)\n",
    "print('MSE of linear regression:')\n",
    "print(mse)"
   ]
  },
  {
   "cell_type": "code",
   "execution_count": 70,
   "metadata": {},
   "outputs": [
    {
     "name": "stdout",
     "output_type": "stream",
     "text": [
      "        fit  user_id  item_id  rating     rented for          body type  \\\n",
      "0       fit   420272  2260466    10.0       vacation          hourglass   \n",
      "1       fit   273551   153475    10.0          other  straight & narrow   \n",
      "2       fit   909926   126335     8.0  formal affair               pear   \n",
      "3       fit   151944   616682    10.0        wedding           athletic   \n",
      "4       fit   734848   364092     8.0           date           athletic   \n",
      "...     ...      ...      ...     ...            ...                ...   \n",
      "146376  fit    66386  2252812    10.0           work          hourglass   \n",
      "146377  fit   118398   682043    10.0           work             petite   \n",
      "146378  fit    47002   683251     6.0       everyday  straight & narrow   \n",
      "146379  fit   961120   126335    10.0        wedding               pear   \n",
      "146380  fit   123612   127865    10.0        wedding           athletic   \n",
      "\n",
      "        category         review date       SVD  bust size  cup size  weight  \\\n",
      "0         romper      April 20, 2016  8.711091        0.3  0.333333   0.348   \n",
      "1           gown       June 18, 2013  9.575873        0.3  0.111111   0.328   \n",
      "2          dress   February 12, 2014  8.325371        0.3  0.222222   0.340   \n",
      "3           gown  September 26, 2016  9.884837        0.3  0.111111   0.380   \n",
      "4          dress      April 30, 2016  8.564420        0.2  0.111111   0.352   \n",
      "...          ...                 ...       ...        ...       ...     ...   \n",
      "146376  jumpsuit        May 18, 2016  8.898084        0.3  0.333333   0.360   \n",
      "146377     dress  September 30, 2016  9.075660        0.2  0.222222   0.200   \n",
      "146378     dress       March 4, 2016  9.194891        0.4  0.000000   0.340   \n",
      "146379     dress   November 25, 2015  9.040865        0.4  0.222222   0.460   \n",
      "146380      gown     August 29, 2017  9.472031        0.4  0.111111   0.420   \n",
      "\n",
      "          height      size       age  review length  number of excl  \n",
      "0       0.583333  0.241379  0.239316       0.110386            0.04  \n",
      "1       0.500000  0.206897  0.307692       0.110386            0.00  \n",
      "2       0.458333  0.137931  0.290598       0.232815            0.04  \n",
      "3       0.625000  0.206897  0.230769       0.279980            0.02  \n",
      "4       0.583333  0.137931  0.384615       0.097341            0.00  \n",
      "...          ...       ...       ...            ...             ...  \n",
      "146376  0.625000  0.137931  0.358974       0.008028            0.02  \n",
      "146377  0.291667  0.068966  0.247863       0.171601            0.02  \n",
      "146378  0.583333  0.137931  0.264957       0.139990            0.00  \n",
      "146379  0.500000  0.275862  0.264957       0.219769            0.02  \n",
      "146380  0.500000  0.275862  0.256410       0.249875            0.02  \n",
      "\n",
      "[146381 rows x 17 columns]\n"
     ]
    }
   ],
   "source": [
    "df = pd.read_csv('data/fit_svd.csv')\n",
    "attrs = ['bust size', 'cup size', 'weight', 'height', 'size', 'age', 'review length', 'number of excl']\n",
    "for attr in attrs:\n",
    "    scale = (df[attr]-df[attr].min())/(df[attr].max()-df[attr].min())\n",
    "    df = df.drop(attr, axis=1)\n",
    "    df[attr] = scale\n",
    "print(df)\n",
    "\n",
    "one_hot_rf = pd.get_dummies(df['rented for'])\n",
    "one_hot_bt = pd.get_dummies(df['body type'])\n",
    "one_hot_cat = pd.get_dummies(df['category'])\n",
    "\n",
    "df = df.drop('rented for', axis=1)\n",
    "df = df.drop('body type', axis=1)\n",
    "df = df.drop('category', axis=1)\n",
    "df = df.drop('review date', axis=1)\n",
    "\n",
    "df = df.join(one_hot_rf)\n",
    "df = df.join(one_hot_bt)\n",
    "df = df.join(one_hot_cat)\n",
    "\n",
    "df.to_csv('data/fit_norm_svd.csv', index=False)"
   ]
  },
  {
   "cell_type": "code",
   "execution_count": 72,
   "metadata": {},
   "outputs": [
    {
     "name": "stdout",
     "output_type": "stream",
     "text": [
      "MSE of linear regression with SVD:\n",
      "2.10008061487982\n"
     ]
    }
   ],
   "source": [
    "df = pd.read_csv('data/fit_norm_svd.csv')\n",
    "df = df.drop('fit', axis=1)\n",
    "ratings = df['rating']\n",
    "df = df.drop('rating', axis=1)\n",
    "\n",
    "train = df[0: df.shape[0] // 10 * 8]\n",
    "train_ratings = ratings[0: df.shape[0] // 10 * 8]\n",
    "validation = df[df.shape[0] // 10 * 8: df.shape[0] // 10 * 9]\n",
    "validation_ratings = ratings[df.shape[0] // 10 * 8: df.shape[0] // 10 * 9]\n",
    "\n",
    "reg = LinearRegression().fit(train, train_ratings)\n",
    "predictions = reg.predict(validation)\n",
    "mse = mean_squared_error(validation_ratings, predictions)\n",
    "print('MSE of linear regression with SVD:')\n",
    "print(mse)"
   ]
  },
  {
   "cell_type": "code",
   "execution_count": 85,
   "metadata": {},
   "outputs": [
    {
     "name": "stdout",
     "output_type": "stream",
     "text": [
      "MSE of linear regression with RF:\n",
      "1.9734695708749401\n"
     ]
    }
   ],
   "source": [
    "from sklearn.ensemble import RandomForestRegressor\n",
    "\n",
    "df = pd.read_csv('data/fit_norm.csv')\n",
    "df = df.drop('fit', axis=1)\n",
    "ratings = df['rating']\n",
    "df = df.drop('rating', axis=1)\n",
    "\n",
    "train = df[0: df.shape[0] // 10 * 8]\n",
    "train_ratings = ratings[0: df.shape[0] // 10 * 8]\n",
    "validation = df[df.shape[0] // 10 * 8: df.shape[0] // 10 * 9]\n",
    "validation_ratings = ratings[df.shape[0] // 10 * 8: df.shape[0] // 10 * 9]\n",
    "\n",
    "reg = RandomForestRegressor(max_depth=3, random_state=0, n_estimators=100)\n",
    "reg.fit(train, train_ratings)\n",
    "predictions = reg.predict(validation)\n",
    "mse = mean_squared_error(validation_ratings, predictions)\n",
    "print('MSE of linear regression with RF:')\n",
    "print(mse)"
   ]
  },
  {
   "cell_type": "code",
   "execution_count": 81,
   "metadata": {},
   "outputs": [
    {
     "name": "stdout",
     "output_type": "stream",
     "text": [
      "MSE of linear regression with MLP:\n",
      "1842.821780462671\n"
     ]
    }
   ],
   "source": [
    "from sklearn.neural_network import MLPRegressor\n",
    "\n",
    "reg = MLPRegressor()\n",
    "reg.fit(train, train_ratings)\n",
    "predictions = reg.predict(validation)\n",
    "mse = mean_squared_error(validation_ratings, predictions)\n",
    "print('MSE of linear regression with MLP:')\n",
    "print(mse)"
   ]
  },
  {
   "cell_type": "code",
   "execution_count": null,
   "metadata": {},
   "outputs": [],
   "source": [
    "from sklearn.ensemble import GradientBoostingRegressor\n",
    "\n",
    "reg = GradientBoostingRegressor()\n",
    "reg.fit(train, train_ratings)\n",
    "predictions = reg.predict(validation)\n",
    "mse = mean_squared_error(validation_ratings, predictions)\n",
    "print('MSE of linear regression with GDBT:')\n",
    "print(mse)"
   ]
  },
  {
   "cell_type": "code",
   "execution_count": null,
   "metadata": {},
   "outputs": [
    {
     "name": "stdout",
     "output_type": "stream",
     "text": [
      "        fit  user_id  item_id  rating  bust size  cup size  weight    height  \\\n",
      "0       fit   420272  2260466    10.0        0.3  0.333333   0.348  0.583333   \n",
      "1       fit   273551   153475    10.0        0.3  0.111111   0.328  0.500000   \n",
      "2       fit   909926   126335     8.0        0.3  0.222222   0.340  0.458333   \n",
      "3       fit   151944   616682    10.0        0.3  0.111111   0.380  0.625000   \n",
      "4       fit   734848   364092     8.0        0.2  0.111111   0.352  0.583333   \n",
      "...     ...      ...      ...     ...        ...       ...     ...       ...   \n",
      "146376  fit    66386  2252812    10.0        0.3  0.333333   0.360  0.625000   \n",
      "146377  fit   118398   682043    10.0        0.2  0.222222   0.200  0.291667   \n",
      "146378  fit    47002   683251     6.0        0.4  0.000000   0.340  0.583333   \n",
      "146379  fit   961120   126335    10.0        0.4  0.222222   0.460  0.500000   \n",
      "146380  fit   123612   127865    10.0        0.4  0.111111   0.420  0.500000   \n",
      "\n",
      "            size       age  ...  tank  tee  tight  top  trench  trouser  \\\n",
      "0       0.241379  0.239316  ...     0    0      0    0       0        0   \n",
      "1       0.206897  0.307692  ...     0    0      0    0       0        0   \n",
      "2       0.137931  0.290598  ...     0    0      0    0       0        0   \n",
      "3       0.206897  0.230769  ...     0    0      0    0       0        0   \n",
      "4       0.137931  0.384615  ...     0    0      0    0       0        0   \n",
      "...          ...       ...  ...   ...  ...    ...  ...     ...      ...   \n",
      "146376  0.137931  0.358974  ...     0    0      0    0       0        0   \n",
      "146377  0.068966  0.247863  ...     0    0      0    0       0        0   \n",
      "146378  0.137931  0.264957  ...     0    0      0    0       0        0   \n",
      "146379  0.275862  0.264957  ...     0    0      0    0       0        0   \n",
      "146380  0.275862  0.256410  ...     0    0      0    0       0        0   \n",
      "\n",
      "        trousers  tunic  turtleneck  vest  \n",
      "0              0      0           0     0  \n",
      "1              0      0           0     0  \n",
      "2              0      0           0     0  \n",
      "3              0      0           0     0  \n",
      "4              0      0           0     0  \n",
      "...          ...    ...         ...   ...  \n",
      "146376         0      0           0     0  \n",
      "146377         0      0           0     0  \n",
      "146378         0      0           0     0  \n",
      "146379         0      0           0     0  \n",
      "146380         0      0           0     0  \n",
      "\n",
      "[146381 rows x 96 columns]\n"
     ]
    },
    {
     "name": "stderr",
     "output_type": "stream",
     "text": [
      "/Users/quncheng/Dropbox/学习/19Fall/CSE_258/hw1/venv/lib/python3.7/site-packages/sklearn/svm/base.py:193: FutureWarning: The default value of gamma will change from 'auto' to 'scale' in version 0.22 to account better for unscaled features. Set gamma explicitly to 'auto' or 'scale' to avoid this warning.\n",
      "  \"avoid this warning.\", FutureWarning)\n"
     ]
    }
   ],
   "source": [
    "# classifier\n",
    "from sklearn.svm import SVC\n",
    "import pandas as pd\n",
    "\n",
    "df = pd.read_csv('data/fit_norm.csv')\n",
    "print(df)\n",
    "\n",
    "df = df.drop('rating', axis=1)\n",
    "fit = df['fit']\n",
    "df = df.drop('fit', axis=1)\n",
    "\n",
    "y = []\n",
    "for f in fit:\n",
    "    if f == \"small\":\n",
    "        y.append(-1)\n",
    "    elif f == \"fit\":\n",
    "        y.append(0)\n",
    "    else:\n",
    "        y.append(1)\n",
    "\n",
    "train = df[0: df.shape[0] // 10 * 8]\n",
    "train_fit = y[0: len(y) // 10 * 8]\n",
    "validation = df[df.shape[0] // 10 * 8: df.shape[0] // 10 * 9]\n",
    "validation_fit = y[len(y) // 10 * 8: len(y) // 10 * 9]\n",
    "clf = SVC()\n",
    "clf.fit(train, train_fit) \n",
    "predictions = clf.predict(validation)\n",
    "accuracy = accuracy_score(validation_fit, predictions)\n",
    "print(accuracy)"
   ]
  },
  {
   "cell_type": "code",
   "execution_count": 5,
   "metadata": {},
   "outputs": [
    {
     "name": "stderr",
     "output_type": "stream",
     "text": [
      "/Users/quncheng/Dropbox/学习/19Fall/CSE_258/hw1/venv/lib/python3.7/site-packages/sklearn/ensemble/forest.py:245: FutureWarning: The default value of n_estimators will change from 10 in version 0.20 to 100 in 0.22.\n",
      "  \"10 in version 0.20 to 100 in 0.22.\", FutureWarning)\n"
     ]
    },
    {
     "name": "stdout",
     "output_type": "stream",
     "text": [
      "0.7160814318896024\n"
     ]
    }
   ],
   "source": [
    "from sklearn.ensemble import RandomForestClassifier\n",
    "from sklearn.metrics import accuracy_score\n",
    "\n",
    "clf = RandomForestClassifier()\n",
    "clf.fit(train, train_fit) \n",
    "predictions = clf.predict(validation)\n",
    "accuracy = accuracy_score(validation_fit, predictions)\n",
    "print(accuracy)"
   ]
  },
  {
   "cell_type": "code",
   "execution_count": 3,
   "metadata": {},
   "outputs": [
    {
     "name": "stdout",
     "output_type": "stream",
     "text": [
      "0.7406749555950266\n"
     ]
    }
   ],
   "source": [
    "from sklearn.ensemble import GradientBoostingClassifier\n",
    "from sklearn.metrics import accuracy_score\n",
    "\n",
    "clf = GradientBoostingClassifier()\n",
    "clf.fit(train, train_fit) \n",
    "predictions = clf.predict(validation)\n",
    "accuracy = accuracy_score(validation_fit, predictions)\n",
    "print(accuracy)"
   ]
  },
  {
   "cell_type": "code",
   "execution_count": 4,
   "metadata": {},
   "outputs": [
    {
     "name": "stderr",
     "output_type": "stream",
     "text": [
      "/Users/quncheng/Dropbox/学习/19Fall/CSE_258/hw1/venv/lib/python3.7/site-packages/sklearn/linear_model/logistic.py:432: FutureWarning: Default solver will be changed to 'lbfgs' in 0.22. Specify a solver to silence this warning.\n",
      "  FutureWarning)\n",
      "/Users/quncheng/Dropbox/学习/19Fall/CSE_258/hw1/venv/lib/python3.7/site-packages/sklearn/linear_model/logistic.py:469: FutureWarning: Default multi_class will be changed to 'auto' in 0.22. Specify the multi_class option to silence this warning.\n",
      "  \"this warning.\", FutureWarning)\n"
     ]
    },
    {
     "name": "stdout",
     "output_type": "stream",
     "text": [
      "0.7395819100970078\n"
     ]
    }
   ],
   "source": [
    "from sklearn.linear_model import LogisticRegression\n",
    "\n",
    "clf = LogisticRegression()\n",
    "clf.fit(train, train_fit) \n",
    "predictions = clf.predict(validation)\n",
    "accuracy = accuracy_score(validation_fit, predictions)\n",
    "print(accuracy)"
   ]
  },
  {
   "cell_type": "code",
   "execution_count": null,
   "metadata": {},
   "outputs": [],
   "source": []
  }
 ],
 "metadata": {
  "kernelspec": {
   "display_name": "Python 3",
   "language": "python",
   "name": "python3"
  },
  "language_info": {
   "codemirror_mode": {
    "name": "ipython",
    "version": 3
   },
   "file_extension": ".py",
   "mimetype": "text/x-python",
   "name": "python",
   "nbconvert_exporter": "python",
   "pygments_lexer": "ipython3",
   "version": "3.7.4"
  }
 },
 "nbformat": 4,
 "nbformat_minor": 1
}
