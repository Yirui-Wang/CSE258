{
 "cells": [
  {
   "cell_type": "code",
   "execution_count": 32,
   "metadata": {},
   "outputs": [],
   "source": [
    "import pandas as pd\n",
    "import numpy as np\n",
    "from sklearn.linear_model import LinearRegression\n",
    "from sklearn.metrics import mean_squared_error\n",
    "from surprise import Reader, Dataset, SVD\n",
    "\n",
    "df = pd.read_csv('data/fit.csv')\n",
    "train = df[0: df.shape[0] // 10 * 8]\n",
    "validation = df[df.shape[0] // 10 * 8: df.shape[0] // 10 * 9]\n",
    "test = df[df.shape[0] // 10 * 9:]\n",
    "\n",
    "# SVD\n",
    "col_names = ['user_id', 'item_id', 'rating']\n",
    "reader = Reader(rating_scale=(2, 10))\n",
    "data = Dataset.load_from_df(train[col_names], reader)\n",
    "data = data.build_full_trainset()\n",
    "algo = SVD()\n",
    "algo.fit(data)\n",
    "svds = []\n",
    "for user_id, item_id in zip(df['user_id'], df['item_id']):\n",
    "    svds.append(algo.predict(user_id, item_id).est)\n",
    "df = df.assign(SVD=svds)\n",
    "df.to_csv('data/fit_svd.csv', index=False)"
   ]
  },
  {
   "cell_type": "code",
   "execution_count": 42,
   "metadata": {},
   "outputs": [],
   "source": [
    "df = pd.read_csv('data/fit_svd.csv')\n",
    "one_hot_rf = pd.get_dummies(df['rented for'])\n",
    "one_hot_bt = pd.get_dummies(df['body type'])\n",
    "one_hot_cat = pd.get_dummies(df['category'])\n",
    "\n",
    "df = df.drop('rented for', axis=1)\n",
    "df = df.drop('body type', axis=1)\n",
    "df = df.drop('category', axis=1)\n",
    "\n",
    "df = df.drop('review date', axis=1)\n",
    "df = df.drop('fit', axis=1)\n",
    "\n",
    "ratings = df['rating']\n",
    "df = df.drop('rating', axis=1)\n",
    "\n",
    "df = df.join(one_hot_rf)\n",
    "df = df.join(one_hot_bt)\n",
    "df = df.join(one_hot_cat)\n",
    "\n",
    "train = df[0: df.shape[0] // 10 * 8]\n",
    "train_ratings = ratings[0: df.shape[0] // 10 * 8]\n",
    "validation = df[df.shape[0] // 10 * 8: df.shape[0] // 10 * 9]\n",
    "validation_ratings = ratings[df.shape[0] // 10 * 8: df.shape[0] // 10 * 9]"
   ]
  },
  {
   "cell_type": "code",
   "execution_count": 43,
   "metadata": {
    "scrolled": true
   },
   "outputs": [
    {
     "name": "stdout",
     "output_type": "stream",
     "text": [
      "MSE of SVD:\n",
      "1.977126697188415\n"
     ]
    }
   ],
   "source": [
    "mse = mean_squared_error(validation_ratings, df['SVD'][df.shape[0] // 10 * 8: df.shape[0] // 10 * 9])\n",
    "print('MSE of SVD:')\n",
    "print(mse)"
   ]
  },
  {
   "cell_type": "code",
   "execution_count": 44,
   "metadata": {
    "scrolled": true
   },
   "outputs": [
    {
     "name": "stdout",
     "output_type": "stream",
     "text": [
      "MSE of combining SVD and linear regression:\n",
      "2.100080614895229\n"
     ]
    }
   ],
   "source": [
    "reg = LinearRegression().fit(train, train_ratings)\n",
    "predictions = reg.predict(validation)\n",
    "mse = mean_squared_error(validation_ratings, predictions)\n",
    "print('MSE of combining SVD and linear regression:')\n",
    "print(mse)"
   ]
  },
  {
   "cell_type": "code",
   "execution_count": 45,
   "metadata": {},
   "outputs": [
    {
     "name": "stdout",
     "output_type": "stream",
     "text": [
      "MSE of linear regression:\n",
      "1.9862645229992368\n"
     ]
    }
   ],
   "source": [
    "df = pd.read_csv('data/fit.csv')\n",
    "one_hot_rf = pd.get_dummies(df['rented for'])\n",
    "one_hot_bt = pd.get_dummies(df['body type'])\n",
    "one_hot_cat = pd.get_dummies(df['category'])\n",
    "\n",
    "df = df.drop('rented for', axis=1)\n",
    "df = df.drop('body type', axis=1)\n",
    "df = df.drop('category', axis=1)\n",
    "\n",
    "df = df.drop('review date', axis=1)\n",
    "df = df.drop('fit', axis=1)\n",
    "\n",
    "ratings = df['rating']\n",
    "df = df.drop('rating', axis=1)\n",
    "\n",
    "df = df.join(one_hot_rf)\n",
    "df = df.join(one_hot_bt)\n",
    "df = df.join(one_hot_cat)\n",
    "\n",
    "train = df[0: df.shape[0] // 10 * 8]\n",
    "train_ratings = ratings[0: df.shape[0] // 10 * 8]\n",
    "validation = df[df.shape[0] // 10 * 8: df.shape[0] // 10 * 9]\n",
    "validation_ratings = ratings[df.shape[0] // 10 * 8: df.shape[0] // 10 * 9]\n",
    "\n",
    "reg = LinearRegression().fit(train, train_ratings)\n",
    "predictions = reg.predict(validation)\n",
    "mse = mean_squared_error(validation_ratings, predictions)\n",
    "print('MSE of linear regression:')\n",
    "print(mse)"
   ]
  },
  {
   "cell_type": "code",
   "execution_count": 50,
   "metadata": {},
   "outputs": [
    {
     "name": "stdout",
     "output_type": "stream",
     "text": [
      "        fit  user_id  item_id     rented for          body type  category  \\\n",
      "0       fit   420272  2260466       vacation          hourglass    romper   \n",
      "1       fit   273551   153475          other  straight & narrow      gown   \n",
      "2       fit   909926   126335  formal affair               pear     dress   \n",
      "3       fit   151944   616682        wedding           athletic      gown   \n",
      "4       fit   734848   364092           date           athletic     dress   \n",
      "...     ...      ...      ...            ...                ...       ...   \n",
      "146376  fit    66386  2252812           work          hourglass  jumpsuit   \n",
      "146377  fit   118398   682043           work             petite     dress   \n",
      "146378  fit    47002   683251       everyday  straight & narrow     dress   \n",
      "146379  fit   961120   126335        wedding               pear     dress   \n",
      "146380  fit   123612   127865        wedding           athletic      gown   \n",
      "\n",
      "               review date  bust size  cup size  weight  rating    height  \\\n",
      "0           April 20, 2016        0.3  0.333333   0.348    1.00  0.583333   \n",
      "1            June 18, 2013        0.3  0.111111   0.328    1.00  0.500000   \n",
      "2        February 12, 2014        0.3  0.222222   0.340    0.75  0.458333   \n",
      "3       September 26, 2016        0.3  0.111111   0.380    1.00  0.625000   \n",
      "4           April 30, 2016        0.2  0.111111   0.352    0.75  0.583333   \n",
      "...                    ...        ...       ...     ...     ...       ...   \n",
      "146376        May 18, 2016        0.3  0.333333   0.360    1.00  0.625000   \n",
      "146377  September 30, 2016        0.2  0.222222   0.200    1.00  0.291667   \n",
      "146378       March 4, 2016        0.4  0.000000   0.340    0.50  0.583333   \n",
      "146379   November 25, 2015        0.4  0.222222   0.460    1.00  0.500000   \n",
      "146380     August 29, 2017        0.4  0.111111   0.420    1.00  0.500000   \n",
      "\n",
      "            size       age  review length  number of excl  \n",
      "0       0.241379  0.239316       0.110386            0.04  \n",
      "1       0.206897  0.307692       0.110386            0.00  \n",
      "2       0.137931  0.290598       0.232815            0.04  \n",
      "3       0.206897  0.230769       0.279980            0.02  \n",
      "4       0.137931  0.384615       0.097341            0.00  \n",
      "...          ...       ...            ...             ...  \n",
      "146376  0.137931  0.358974       0.008028            0.02  \n",
      "146377  0.068966  0.247863       0.171601            0.02  \n",
      "146378  0.137931  0.264957       0.139990            0.00  \n",
      "146379  0.275862  0.264957       0.219769            0.02  \n",
      "146380  0.275862  0.256410       0.249875            0.02  \n",
      "\n",
      "[146381 rows x 16 columns]\n"
     ]
    }
   ],
   "source": [
    "df = pd.read_csv('data/fit.csv')\n",
    "attrs = ['bust size', 'cup size', 'weight', 'rating', 'height', 'size', 'age', 'review length', 'number of excl']\n",
    "for attr in attrs:\n",
    "    scale = (df[attr]-df[attr].min())/(df[attr].max()-df[attr].min())\n",
    "    df = df.drop(attr, axis=1)\n",
    "    df[attr] = scale\n",
    "print(df)"
   ]
  },
  {
   "cell_type": "code",
   "execution_count": 51,
   "metadata": {},
   "outputs": [],
   "source": [
    "one_hot_rf = pd.get_dummies(df['rented for'])\n",
    "one_hot_bt = pd.get_dummies(df['body type'])\n",
    "one_hot_cat = pd.get_dummies(df['category'])\n",
    "\n",
    "df = df.drop('rented for', axis=1)\n",
    "df = df.drop('body type', axis=1)\n",
    "df = df.drop('category', axis=1)\n",
    "df = df.drop('review date', axis=1)\n",
    "\n",
    "df = df.join(one_hot_rf)\n",
    "df = df.join(one_hot_bt)\n",
    "df = df.join(one_hot_cat)\n",
    "\n",
    "df.to_csv('data/fit_norm.csv')"
   ]
  },
  {
   "cell_type": "code",
   "execution_count": 52,
   "metadata": {},
   "outputs": [],
   "source": [
    "df.to_csv('data/fit_norm.csv', index=False)"
   ]
  },
  {
   "cell_type": "code",
   "execution_count": 53,
   "metadata": {},
   "outputs": [
    {
     "name": "stdout",
     "output_type": "stream",
     "text": [
      "MSE of linear regression:\n",
      "0.031035383171769192\n"
     ]
    }
   ],
   "source": [
    "df = pd.read_csv()\n",
    "df = df.drop('fit', axis=1)\n",
    "ratings = df['rating']\n",
    "df = df.drop('rating', axis=1)\n",
    "\n",
    "train = df[0: df.shape[0] // 10 * 8]\n",
    "train_ratings = ratings[0: df.shape[0] // 10 * 8]\n",
    "validation = df[df.shape[0] // 10 * 8: df.shape[0] // 10 * 9]\n",
    "validation_ratings = ratings[df.shape[0] // 10 * 8: df.shape[0] // 10 * 9]\n",
    "\n",
    "reg = LinearRegression().fit(train, train_ratings)\n",
    "predictions = reg.predict(validation)\n",
    "mse = mean_squared_error(validation_ratings, predictions)\n",
    "print('MSE of linear regression with SVD:')\n",
    "print(mse)"
   ]
  },
  {
   "cell_type": "code",
   "execution_count": 54,
   "metadata": {},
   "outputs": [
    {
     "name": "stdout",
     "output_type": "stream",
     "text": [
      "        fit  user_id  item_id     rented for          body type  category  \\\n",
      "0       fit   420272  2260466       vacation          hourglass    romper   \n",
      "1       fit   273551   153475          other  straight & narrow      gown   \n",
      "2       fit   909926   126335  formal affair               pear     dress   \n",
      "3       fit   151944   616682        wedding           athletic      gown   \n",
      "4       fit   734848   364092           date           athletic     dress   \n",
      "...     ...      ...      ...            ...                ...       ...   \n",
      "146376  fit    66386  2252812           work          hourglass  jumpsuit   \n",
      "146377  fit   118398   682043           work             petite     dress   \n",
      "146378  fit    47002   683251       everyday  straight & narrow     dress   \n",
      "146379  fit   961120   126335        wedding               pear     dress   \n",
      "146380  fit   123612   127865        wedding           athletic      gown   \n",
      "\n",
      "               review date       SVD  bust size  cup size  weight  rating  \\\n",
      "0           April 20, 2016  8.711091        0.3  0.333333   0.348    1.00   \n",
      "1            June 18, 2013  9.575873        0.3  0.111111   0.328    1.00   \n",
      "2        February 12, 2014  8.325371        0.3  0.222222   0.340    0.75   \n",
      "3       September 26, 2016  9.884837        0.3  0.111111   0.380    1.00   \n",
      "4           April 30, 2016  8.564420        0.2  0.111111   0.352    0.75   \n",
      "...                    ...       ...        ...       ...     ...     ...   \n",
      "146376        May 18, 2016  8.898084        0.3  0.333333   0.360    1.00   \n",
      "146377  September 30, 2016  9.075660        0.2  0.222222   0.200    1.00   \n",
      "146378       March 4, 2016  9.194891        0.4  0.000000   0.340    0.50   \n",
      "146379   November 25, 2015  9.040865        0.4  0.222222   0.460    1.00   \n",
      "146380     August 29, 2017  9.472031        0.4  0.111111   0.420    1.00   \n",
      "\n",
      "          height      size       age  review length  number of excl  \n",
      "0       0.583333  0.241379  0.239316       0.110386            0.04  \n",
      "1       0.500000  0.206897  0.307692       0.110386            0.00  \n",
      "2       0.458333  0.137931  0.290598       0.232815            0.04  \n",
      "3       0.625000  0.206897  0.230769       0.279980            0.02  \n",
      "4       0.583333  0.137931  0.384615       0.097341            0.00  \n",
      "...          ...       ...       ...            ...             ...  \n",
      "146376  0.625000  0.137931  0.358974       0.008028            0.02  \n",
      "146377  0.291667  0.068966  0.247863       0.171601            0.02  \n",
      "146378  0.583333  0.137931  0.264957       0.139990            0.00  \n",
      "146379  0.500000  0.275862  0.264957       0.219769            0.02  \n",
      "146380  0.500000  0.275862  0.256410       0.249875            0.02  \n",
      "\n",
      "[146381 rows x 17 columns]\n"
     ]
    }
   ],
   "source": [
    "df = pd.read_csv('data/fit_svd.csv')\n",
    "attrs = ['bust size', 'cup size', 'weight', 'rating', 'height', 'size', 'age', 'review length', 'number of excl']\n",
    "for attr in attrs:\n",
    "    scale = (df[attr]-df[attr].min())/(df[attr].max()-df[attr].min())\n",
    "    df = df.drop(attr, axis=1)\n",
    "    df[attr] = scale\n",
    "print(df)\n",
    "df.to_csv('data/fit_norm_svd.csv', index=False)"
   ]
  },
  {
   "cell_type": "code",
   "execution_count": null,
   "metadata": {},
   "outputs": [],
   "source": []
  }
 ],
 "metadata": {
  "kernelspec": {
   "display_name": "Python 3",
   "language": "python",
   "name": "python3"
  },
  "language_info": {
   "codemirror_mode": {
    "name": "ipython",
    "version": 3
   },
   "file_extension": ".py",
   "mimetype": "text/x-python",
   "name": "python",
   "nbconvert_exporter": "python",
   "pygments_lexer": "ipython3",
   "version": "3.7.4"
  }
 },
 "nbformat": 4,
 "nbformat_minor": 1
}
