{
 "cells": [
  {
   "cell_type": "code",
   "execution_count": null,
   "metadata": {
    "collapsed": true
   },
   "outputs": [],
   "source": [
    "import pandas as pd\n",
    "from sklearn.linear_model import LinearRegression\n",
    "\n",
    "df = pd.read_csv('data/fit.csv')\n",
    "train = df[0: df.shape[0] // 10 * 8]\n",
    "validation = df[df.shape[0] // 10 * 8: df.shape[0] // 10 * 9]\n",
    "test = df[df.shape[0] // 10 * 9:]\n",
    "\n",
    "# SVD\n",
    "col_names = ['user_id', 'item_id', 'rating']\n",
    "reader = Reader(rating_scale=(2, 10))\n",
    "data = Dataset.load_from_df(train[col_names], reader)\n",
    "data = data.build_full_train_pairsset()\n",
    "algo = SVD()\n",
    "algo.fit(data)\n",
    "svds = []\n",
    "for user_id, book_id in zip(train['user_id'], train['item_id']):\n",
    "    svds.append(algo.predict(user_id, book_id).est)\n",
    "train['SVD'] = svds\n",
    "\n",
    "one_hot_rf = pd.get_dummies(train['rented for'])\n",
    "one_hot_bt = pd.get_dummies(train['body type'])\n",
    "one_hot_cat = pd.get_dummies(train['category'])\n",
    "\n",
    "train = train.drop('rented for',axis = 1)\n",
    "train = train.drop('body type',axis = 1)\n",
    "train = train.drop('category',axis = 1)\n",
    "\n",
    "train = train.drop('review date',axis = 1)\n",
    "train = train.drop('fit', axis = 1)\n",
    "\n",
    "ratings = train['rating']\n",
    "train = train.drop('rating', axis = 1)\n",
    "\n",
    "train = train.join(one_hot_rf)\n",
    "train = train.join(one_hot_bt)\n",
    "train = train.join(one_hot_cat)\n",
    "\n",
    "reg = LinearRegression().fit(train, ratings)"
   ]
  }
 ],
 "metadata": {
  "kernelspec": {
   "display_name": "Python 3",
   "language": "python",
   "name": "python3"
  },
  "language_info": {
   "codemirror_mode": {
    "name": "ipython",
    "version": 3
   },
   "file_extension": ".py",
   "mimetype": "text/x-python",
   "name": "python",
   "nbconvert_exporter": "python",
   "pygments_lexer": "ipython3",
   "version": "3.8.0"
  }
 },
 "nbformat": 4,
 "nbformat_minor": 1
}
